{
  "nbformat": 4,
  "nbformat_minor": 0,
  "metadata": {
    "colab": {
      "name": "Missing Value.ipynb",
      "provenance": [],
      "collapsed_sections": []
    },
    "kernelspec": {
      "name": "python3",
      "display_name": "Python 3"
    },
    "language_info": {
      "name": "python"
    }
  },
  "cells": [
    {
      "cell_type": "code",
      "execution_count": 5,
      "metadata": {
        "id": "tOMHqhRQmiix"
      },
      "outputs": [],
      "source": [
        "import pandas as pd\n",
        "import numpy as np"
      ]
    },
    {
      "cell_type": "code",
      "source": [
        "df= pd.read_csv('Data.csv')"
      ],
      "metadata": {
        "id": "COKXpnnAnozg"
      },
      "execution_count": 6,
      "outputs": []
    },
    {
      "cell_type": "markdown",
      "source": [
        "# Find Percentage of Missing value\n",
        "\n"
      ],
      "metadata": {
        "id": "cz5UMwXXsVau"
      }
    },
    {
      "cell_type": "code",
      "source": [
        "df.isnull().sum()"
      ],
      "metadata": {
        "colab": {
          "base_uri": "https://localhost:8080/"
        },
        "id": "600sfU95nwGv",
        "outputId": "67594e0f-a738-4a35-c744-b0efcfca98cd"
      },
      "execution_count": 7,
      "outputs": [
        {
          "output_type": "execute_result",
          "data": {
            "text/plain": [
              "Store              0\n",
              "Date               0\n",
              "Temperature        0\n",
              "Fuel_Price         0\n",
              "MarkDown1       4158\n",
              "MarkDown2       5269\n",
              "MarkDown3       4577\n",
              "MarkDown4       4726\n",
              "MarkDown5       4140\n",
              "CPI              585\n",
              "Unemployment     585\n",
              "IsHoliday          0\n",
              "dtype: int64"
            ]
          },
          "metadata": {},
          "execution_count": 7
        }
      ]
    },
    {
      "cell_type": "code",
      "source": [
        "print(round(100*(df.isnull().sum()/len(df.index)),2))"
      ],
      "metadata": {
        "colab": {
          "base_uri": "https://localhost:8080/"
        },
        "id": "XbSF0BBhn0K2",
        "outputId": "fe710930-fbff-4075-97d6-2e6ef804d12e"
      },
      "execution_count": 8,
      "outputs": [
        {
          "output_type": "stream",
          "name": "stdout",
          "text": [
            "Store            0.00\n",
            "Date             0.00\n",
            "Temperature      0.00\n",
            "Fuel_Price       0.00\n",
            "MarkDown1       50.77\n",
            "MarkDown2       64.33\n",
            "MarkDown3       55.89\n",
            "MarkDown4       57.70\n",
            "MarkDown5       50.55\n",
            "CPI              7.14\n",
            "Unemployment     7.14\n",
            "IsHoliday        0.00\n",
            "dtype: float64\n"
          ]
        }
      ]
    },
    {
      "cell_type": "markdown",
      "source": [
        "# **1- Remove**"
      ],
      "metadata": {
        "id": "_NIyuists5B0"
      }
    },
    {
      "cell_type": "markdown",
      "source": [
        "If our number of rows which have missing values are less, or our data is such that it is not advised to fill in missing values, then we can drop the missing rows by using dropna in pandas."
      ],
      "metadata": {
        "id": "msPcTUTftiok"
      }
    },
    {
      "cell_type": "code",
      "source": [
        "#Drop rows with missing target\n",
        "#df.dropna(axis=0, subset=['Target'], inplace=True)"
      ],
      "metadata": {
        "id": "WjMpKfvmtP1q"
      },
      "execution_count": 9,
      "outputs": []
    },
    {
      "cell_type": "code",
      "source": [
        "# Drop columns that have more than 60 percent missing value\n",
        "min_count =  int(((100-60)/100)*df.shape[0] + 1)\n",
        "df = df.dropna( axis=1, thresh=min_count)\n"
      ],
      "metadata": {
        "id": "y49l10HzqmtK"
      },
      "execution_count": 10,
      "outputs": []
    },
    {
      "cell_type": "code",
      "source": [
        "print(round(100*(df.isnull().sum()/len(df.index)),2))"
      ],
      "metadata": {
        "colab": {
          "base_uri": "https://localhost:8080/"
        },
        "id": "OQLb6JfRpAWa",
        "outputId": "c9115002-4fb0-4b49-cb7d-52ab358074ff"
      },
      "execution_count": 11,
      "outputs": [
        {
          "output_type": "stream",
          "name": "stdout",
          "text": [
            "Store            0.00\n",
            "Date             0.00\n",
            "Temperature      0.00\n",
            "Fuel_Price       0.00\n",
            "MarkDown1       50.77\n",
            "MarkDown3       55.89\n",
            "MarkDown4       57.70\n",
            "MarkDown5       50.55\n",
            "CPI              7.14\n",
            "Unemployment     7.14\n",
            "IsHoliday        0.00\n",
            "dtype: float64\n"
          ]
        }
      ]
    },
    {
      "cell_type": "markdown",
      "source": [
        "# **2- Data imputation techniques and replace them with new value**"
      ],
      "metadata": {
        "id": "hFFScahGtXuf"
      }
    },
    {
      "cell_type": "markdown",
      "source": [
        "\n",
        "•\tIf **“mean”**, then replace missing values using the mean along each column. Can only be used with numeric data.\n",
        "\n",
        "•\tIf **“median”**, then replace missing values using the median along each column. Can only be used with numeric data.\n",
        "\n",
        "•\tIf “**most_frequent**”, then replace missing using the most frequent value along each column. Can be used with strings or numeric data.If there is more than one such value, only the smallest is returned.\n",
        "\n",
        "•\tIf **“constant”**, then replace missing values with fill_value. Can be used with strings or numeric data.\n",
        "\n"
      ],
      "metadata": {
        "id": "0491w-ERt-1e"
      }
    },
    {
      "cell_type": "code",
      "source": [
        "from sklearn.impute import SimpleImputer\n",
        "imputer = SimpleImputer(missing_values = np.nan, strategy = 'mean',verbose=0)\n",
        "imputer = imputer.fit(df.iloc[:, 4:8])\n",
        "df.iloc[:, 4:8] = imputer.transform(df.iloc[:, 4:8])"
      ],
      "metadata": {
        "id": "txrvpyTkzeAg"
      },
      "execution_count": 12,
      "outputs": []
    },
    {
      "cell_type": "code",
      "source": [
        "df.isnull().sum()"
      ],
      "metadata": {
        "colab": {
          "base_uri": "https://localhost:8080/"
        },
        "id": "fNSRduzlwivr",
        "outputId": "62352c32-a8d2-464b-aebf-3ab26ca29d0f"
      },
      "execution_count": 13,
      "outputs": [
        {
          "output_type": "execute_result",
          "data": {
            "text/plain": [
              "Store             0\n",
              "Date              0\n",
              "Temperature       0\n",
              "Fuel_Price        0\n",
              "MarkDown1         0\n",
              "MarkDown3         0\n",
              "MarkDown4         0\n",
              "MarkDown5         0\n",
              "CPI             585\n",
              "Unemployment    585\n",
              "IsHoliday         0\n",
              "dtype: int64"
            ]
          },
          "metadata": {},
          "execution_count": 13
        }
      ]
    },
    {
      "cell_type": "markdown",
      "source": [
        "# **3- Prediction Values**"
      ],
      "metadata": {
        "id": "u2jjHuyZ0kVI"
      }
    },
    {
      "cell_type": "markdown",
      "source": [
        "**k-NN:**\n",
        "\n",
        " The k nearest neighbors is an algorithm that is used for simple classification. The algorithm uses ‘feature similarity’ to predict the values of any new data points. This means that the new point is assigned a value based on how closely it resembles the points in the training set. This can be very useful in making predictions about the missing values by finding the k’s closest neighbors to the observation with missing data and then imputing them based on the non-missing values in the neighborhoods. Let’s see some example code using “Impyute” library which provides a simple and easy way to use KNN for imputation:\n"
      ],
      "metadata": {
        "id": "gBDftPzkz3wl"
      }
    },
    {
      "cell_type": "code",
      "source": [
        "# import the KNNimputer class\n",
        "from sklearn.impute import KNNImputer\n",
        "imputer = KNNImputer(n_neighbors=2)\n",
        "df[['CPI','Unemployment']] = imputer.fit_transform(df[['CPI','Unemployment']])\n",
        "df.isnull().sum()"
      ],
      "metadata": {
        "colab": {
          "base_uri": "https://localhost:8080/"
        },
        "id": "0N6JTomfv1uB",
        "outputId": "b0d5884e-4a73-48af-d1bd-a7f2009db31d"
      },
      "execution_count": 14,
      "outputs": [
        {
          "output_type": "execute_result",
          "data": {
            "text/plain": [
              "Store           0\n",
              "Date            0\n",
              "Temperature     0\n",
              "Fuel_Price      0\n",
              "MarkDown1       0\n",
              "MarkDown3       0\n",
              "MarkDown4       0\n",
              "MarkDown5       0\n",
              "CPI             0\n",
              "Unemployment    0\n",
              "IsHoliday       0\n",
              "dtype: int64"
            ]
          },
          "metadata": {},
          "execution_count": 14
        }
      ]
    }
  ]
}