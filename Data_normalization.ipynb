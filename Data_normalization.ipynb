{
  "nbformat": 4,
  "nbformat_minor": 0,
  "metadata": {
    "colab": {
      "name": "Data normalization.ipynb",
      "provenance": []
    },
    "kernelspec": {
      "name": "python3",
      "display_name": "Python 3"
    },
    "language_info": {
      "name": "python"
    }
  },
  "cells": [
    {
      "cell_type": "markdown",
      "source": [
        "#**Normalization**\n",
        "\n",
        "Normalization is the process of scaling individual samples to have unit norm. This process can be useful if you plan to use a quadratic form such as the dot-product or any other kernel to quantify the similarity of any pair of samples.\n",
        "\n",
        "This assumption is the base of the Vector Space Model often used in text classification and clustering contexts.\n",
        "\n",
        "The function normalize provides a quick and easy way to perform this operation on a single array-like dataset, either using the L1, L2, or max norms.\n",
        "\n",
        "Normalization makes the features more consistent with each other, which allows the model to predict outputs more accurately.\n"
      ],
      "metadata": {
        "id": "pHc7D5IRhYDm"
      }
    },
    {
      "cell_type": "code",
      "source": [
        "import numpy as np\n",
        "from sklearn import preprocessing"
      ],
      "metadata": {
        "id": "XoIYNjY6ijzo"
      },
      "execution_count": null,
      "outputs": []
    },
    {
      "cell_type": "code",
      "source": [
        "data = [[ 1., -1.,  2.],  [ 2.,  0.,  0.],  [ 0.,  1., -1.]]\n",
        "data"
      ],
      "metadata": {
        "colab": {
          "base_uri": "https://localhost:8080/"
        },
        "id": "99ULljCQjLi7",
        "outputId": "ada7f6c8-8a30-4e7b-e918-8bd1d56771b9"
      },
      "execution_count": null,
      "outputs": [
        {
          "output_type": "execute_result",
          "data": {
            "text/plain": [
              "[[1.0, -1.0, 2.0], [2.0, 0.0, 0.0], [0.0, 1.0, -1.0]]"
            ]
          },
          "metadata": {},
          "execution_count": 11
        }
      ]
    },
    {
      "cell_type": "markdown",
      "source": [
        "**1) L1 Normalization**\n",
        "\n",
        "The L1 norm that is calculated as the sum of the absolute values of the vector.\n"
      ],
      "metadata": {
        "id": "nI74gqCykWBU"
      }
    },
    {
      "cell_type": "code",
      "source": [
        "#L1 \n",
        "normalized = preprocessing.normalize(data, norm='l1')\n",
        "normalized"
      ],
      "metadata": {
        "colab": {
          "base_uri": "https://localhost:8080/"
        },
        "id": "vnSSHy_7h4FZ",
        "outputId": "ee3bd7c3-a475-4a50-995d-beb0418b7248"
      },
      "execution_count": null,
      "outputs": [
        {
          "output_type": "execute_result",
          "data": {
            "text/plain": [
              "array([[ 0.25, -0.25,  0.5 ],\n",
              "       [ 1.  ,  0.  ,  0.  ],\n",
              "       [ 0.  ,  0.5 , -0.5 ]])"
            ]
          },
          "metadata": {},
          "execution_count": 8
        }
      ]
    },
    {
      "cell_type": "markdown",
      "source": [
        "**2) L2 Normalization**\n",
        "\n",
        "The L2 norm that is calculated as the square root of the sum of the squared vector values."
      ],
      "metadata": {
        "id": "ik2HwZXjkjpS"
      }
    },
    {
      "cell_type": "code",
      "source": [
        "#L2 \n",
        "normalized = preprocessing.normalize(data, norm='l2')\n",
        "normalized"
      ],
      "metadata": {
        "colab": {
          "base_uri": "https://localhost:8080/"
        },
        "id": "ZzQ73ju3iEX_",
        "outputId": "bfcf29ee-b7de-44d7-d0af-2d91cd7d9702"
      },
      "execution_count": null,
      "outputs": [
        {
          "output_type": "execute_result",
          "data": {
            "text/plain": [
              "array([[ 0.40824829, -0.40824829,  0.81649658],\n",
              "       [ 1.        ,  0.        ,  0.        ],\n",
              "       [ 0.        ,  0.70710678, -0.70710678]])"
            ]
          },
          "metadata": {},
          "execution_count": 9
        }
      ]
    },
    {
      "cell_type": "markdown",
      "source": [
        "**3) Max Normalization**\n",
        "\n",
        "The max norm that is calculated as the maximum vector values."
      ],
      "metadata": {
        "id": "_XTkP64mksiG"
      }
    },
    {
      "cell_type": "code",
      "source": [
        "#max\n",
        "normalized = preprocessing.normalize(data, norm='max')\n",
        "normalized"
      ],
      "metadata": {
        "colab": {
          "base_uri": "https://localhost:8080/"
        },
        "id": "9AihegAziKZZ",
        "outputId": "7f5542de-ce62-4412-a5dd-c517ef7b1f6e"
      },
      "execution_count": null,
      "outputs": [
        {
          "output_type": "execute_result",
          "data": {
            "text/plain": [
              "array([[ 0.5, -0.5,  1. ],\n",
              "       [ 1. ,  0. ,  0. ],\n",
              "       [ 0. ,  1. , -1. ]])"
            ]
          },
          "metadata": {},
          "execution_count": 10
        }
      ]
    }
  ]
}